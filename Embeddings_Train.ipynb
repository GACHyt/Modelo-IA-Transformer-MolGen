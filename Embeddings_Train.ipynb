{
 "cells": [
  {
   "cell_type": "code",
   "execution_count": 1,
   "id": "88f94403",
   "metadata": {},
   "outputs": [],
   "source": [
    "import torch\n",
    "import torch.nn as nn\n",
    "from tokenizers import Tokenizer"
   ]
  },
  {
   "cell_type": "markdown",
   "id": "e08457f2",
   "metadata": {},
   "source": [
    "Extraemos el tokenizer que guaramos la notebook \"Tokenizer_Bert\""
   ]
  },
  {
   "cell_type": "code",
   "execution_count": 2,
   "id": "2b4383d7",
   "metadata": {},
   "outputs": [],
   "source": [
    "tokenizer = Tokenizer.from_file(\"smiles_tokenizer.json\")"
   ]
  },
  {
   "cell_type": "markdown",
   "id": "c82a8868",
   "metadata": {},
   "source": [
    "Importamos la lista de moléculas de GitHub y mostramos su tamaño y 5 ejemplos"
   ]
  },
  {
   "cell_type": "code",
   "execution_count": 3,
   "id": "70a41f0e",
   "metadata": {},
   "outputs": [
    {
     "name": "stdout",
     "output_type": "stream",
     "text": [
      "Se cargaron 249456 moléculas.\n",
      "Primeras 5 moléculas: ['CC(C)(C)c1ccc2occ(CC(=O)Nc3ccccc3F)c2c1', 'C[C@@H]1CC(Nc2cncc(-c3nncn3C)c2)C[C@@H](C)C1', 'N#Cc1ccc(-c2ccc(O[C@@H](C(=O)N3CCCC3)c3ccccc3)cc2)cc1', 'CCOC(=O)[C@@H]1CCCN(C(=O)c2nc(-c3ccc(C)cc3)n3c2CCCCC3)C1', 'N#CC1=C(SCC(=O)Nc2cccc(Cl)c2)N=C([O-])[C@H](C#N)C12CCCCC2']\n"
     ]
    }
   ],
   "source": [
    "import urllib.request\n",
    "\n",
    "url = \"https://raw.githubusercontent.com/aspuru-guzik-group/selfies/refs/heads/master/examples/vae_example/datasets/dataJ_250k_rndm_zinc_drugs_clean.txt\"\n",
    "\n",
    "with urllib.request.urlopen(url) as response:\n",
    "    data = response.read().decode('utf-8')\n",
    "    Corpus = data.strip().split('\\n')\n",
    "\n",
    "print(f\"Se cargaron {len(Corpus)} moléculas.\")\n",
    "print(\"Primeras 5 moléculas:\", Corpus[:5])"
   ]
  },
  {
   "cell_type": "markdown",
   "id": "26983ee7",
   "metadata": {},
   "source": [
    "Determinamos los parámetros de un embedding y creamos el layer con torch.nn"
   ]
  },
  {
   "cell_type": "code",
   "execution_count": 4,
   "id": "c200c517",
   "metadata": {},
   "outputs": [
    {
     "name": "stdout",
     "output_type": "stream",
     "text": [
      "Tamaño del Vocabulario: 100\n",
      "Cantidad de dimensiones: 16\n"
     ]
    }
   ],
   "source": [
    "len_Vocabulario = tokenizer.get_vocab_size()\n",
    "dimension_embedding = 16\n",
    "formato_embedding = nn.Embedding(num_embeddings= len_Vocabulario, embedding_dim = dimension_embedding)\n",
    "print(f\"Tamaño del Vocabulario: {len_Vocabulario}\")\n",
    "print(f\"Cantidad de dimensiones: {dimension_embedding}\")"
   ]
  },
  {
   "cell_type": "markdown",
   "id": "09ccac3a",
   "metadata": {},
   "source": [
    "Definimos la función que crea el embedding una molécula y lo muestra"
   ]
  },
  {
   "cell_type": "code",
   "execution_count": 5,
   "id": "c8455a01",
   "metadata": {},
   "outputs": [],
   "source": [
    "def Mostrar_Embedding(mol):\n",
    "    output = tokenizer.encode(mol)\n",
    "    ids = output.ids\n",
    "    ids_tensor = torch.tensor(ids).unsqueeze(0)\n",
    "    embeddings = formato_embedding(ids_tensor)\n",
    "    print(embeddings)"
   ]
  },
  {
   "cell_type": "code",
   "execution_count": 6,
   "id": "cf18edd2",
   "metadata": {},
   "outputs": [
    {
     "name": "stdout",
     "output_type": "stream",
     "text": [
      "tensor([[[-8.0795e-01,  1.2355e+00,  7.8663e-01, -7.0344e-01, -2.9715e-01,\n",
      "          -4.7294e-01,  6.9039e-02, -5.7231e-01,  9.1522e-01,  6.4943e-01,\n",
      "           3.3296e-01,  4.0451e-01, -1.7379e+00,  3.4829e-01,  1.1457e+00,\n",
      "           8.1424e-01],\n",
      "         [ 9.8947e-02,  1.8430e+00, -1.1267e+00, -8.4108e-01,  6.0168e-01,\n",
      "          -1.3944e+00,  7.4919e-01,  5.6746e-01, -9.2206e-01, -1.1171e+00,\n",
      "           1.4516e+00, -5.4592e-01,  5.1988e-01,  8.8611e-01, -2.5241e-01,\n",
      "           6.8882e-01],\n",
      "         [ 3.6393e-01,  1.1092e-01, -1.0722e+00, -8.0240e-01, -1.3046e+00,\n",
      "          -1.3404e+00,  1.2844e+00,  1.6981e+00, -3.6585e-01, -1.8824e-01,\n",
      "           4.6939e-01,  1.0269e-01, -1.0956e+00,  6.0385e-01,  1.2023e+00,\n",
      "          -6.3538e-01],\n",
      "         [-1.0054e+00,  3.7743e-01,  3.8995e-01, -1.8916e-02, -7.0331e-01,\n",
      "          -1.3182e-01, -1.3423e+00,  1.6970e+00,  2.9949e-01, -3.2220e-01,\n",
      "           1.3469e+00,  1.3478e+00, -1.9402e+00,  1.3309e+00,  1.5211e+00,\n",
      "           1.2127e+00],\n",
      "         [ 3.6393e-01,  1.1092e-01, -1.0722e+00, -8.0240e-01, -1.3046e+00,\n",
      "          -1.3404e+00,  1.2844e+00,  1.6981e+00, -3.6585e-01, -1.8824e-01,\n",
      "           4.6939e-01,  1.0269e-01, -1.0956e+00,  6.0385e-01,  1.2023e+00,\n",
      "          -6.3538e-01],\n",
      "         [-3.8942e-01,  4.8912e-01,  1.5813e-01, -4.1341e-01,  6.4347e-01,\n",
      "           9.1419e-01,  4.0511e-01,  1.3441e-01,  8.2071e-01,  1.2559e+00,\n",
      "           9.0435e-01, -1.0231e+00, -1.0634e+00,  6.7459e-01, -3.0913e-01,\n",
      "          -3.4151e-01],\n",
      "         [-3.3955e-01, -1.2939e+00,  2.0744e-01, -1.4824e+00, -9.5837e-01,\n",
      "           1.7876e+00, -9.9660e-01,  3.2877e-01,  4.5121e-01, -5.1918e-01,\n",
      "           1.1200e+00, -6.5523e-01,  1.4269e+00,  2.4872e-01,  3.7342e-01,\n",
      "          -1.7556e-01],\n",
      "         [-1.0575e-01, -2.2487e-01, -4.3981e-01,  4.1216e-01,  7.2637e-03,\n",
      "           1.1457e+00,  5.0411e-01,  2.1821e+00,  1.0115e+00, -1.7288e+00,\n",
      "           6.4055e-01, -1.4014e+00, -6.3577e-02,  1.2921e+00, -2.6643e-01,\n",
      "          -2.4436e-02],\n",
      "         [ 9.5197e-01, -6.0224e-01,  5.6292e-01,  6.2523e-01,  4.0261e-01,\n",
      "          -7.1628e-01,  9.4129e-01, -1.5723e-01, -5.4872e-02, -1.5248e+00,\n",
      "          -1.4823e+00,  1.4925e-01, -2.6595e-01, -2.1515e-01, -5.9507e-01,\n",
      "          -1.4149e+00],\n",
      "         [ 2.7743e-01, -2.6495e-02,  8.2376e-01, -5.1540e-01, -8.8034e-01,\n",
      "          -1.2445e+00, -7.2853e-02, -2.6503e-01,  6.0814e-01, -8.6446e-01,\n",
      "           1.7568e+00,  3.3603e-01,  1.0176e+00, -2.0681e+00, -2.1976e-01,\n",
      "          -9.7940e-01],\n",
      "         [-1.2437e-01, -7.3374e-01, -1.0690e+00, -7.9058e-01,  7.8397e-01,\n",
      "          -2.0148e-01,  1.0047e+00,  3.7651e-01,  1.1527e+00,  7.3345e-01,\n",
      "           9.5668e-01,  1.7024e+00,  2.7863e-01, -6.0856e-01,  3.2931e-01,\n",
      "          -5.4659e-01],\n",
      "         [-3.6156e-01,  4.7855e-01, -7.6116e-01,  2.1051e-02,  6.7541e-01,\n",
      "           5.2407e-01, -9.4825e-01,  3.3492e-01,  9.6088e-01, -1.3202e-01,\n",
      "           2.5059e-01, -3.5337e-02, -1.3636e+00, -5.6263e-01,  6.2908e-01,\n",
      "          -6.5115e-01],\n",
      "         [ 9.8947e-02,  1.8430e+00, -1.1267e+00, -8.4108e-01,  6.0168e-01,\n",
      "          -1.3944e+00,  7.4919e-01,  5.6746e-01, -9.2206e-01, -1.1171e+00,\n",
      "           1.4516e+00, -5.4592e-01,  5.1988e-01,  8.8611e-01, -2.5241e-01,\n",
      "           6.8882e-01],\n",
      "         [-8.0795e-01,  1.2355e+00,  7.8663e-01, -7.0344e-01, -2.9715e-01,\n",
      "          -4.7294e-01,  6.9039e-02, -5.7231e-01,  9.1522e-01,  6.4943e-01,\n",
      "           3.3296e-01,  4.0451e-01, -1.7379e+00,  3.4829e-01,  1.1457e+00,\n",
      "           8.1424e-01],\n",
      "         [-6.3941e-01,  5.7233e-01, -1.0106e+00,  1.3543e+00, -7.9892e-02,\n",
      "          -1.3299e-01, -4.6942e-01,  3.9531e-01,  5.1281e-01, -6.3031e-01,\n",
      "          -1.9427e+00, -2.5087e-01, -6.9003e-01,  2.6334e+00, -1.0063e+00,\n",
      "           1.3985e-01],\n",
      "         [-1.3870e+00, -1.4635e+00, -8.3188e-01,  7.5719e-01,  1.0595e-01,\n",
      "           9.5732e-03, -2.6990e-01,  1.2599e-01, -8.1074e-01,  2.7981e-01,\n",
      "           3.4702e-02,  1.3343e+00,  1.2562e-02,  3.4630e-01, -9.1049e-01,\n",
      "           2.9016e-02],\n",
      "         [-3.8942e-01,  4.8912e-01,  1.5813e-01, -4.1341e-01,  6.4347e-01,\n",
      "           9.1419e-01,  4.0511e-01,  1.3441e-01,  8.2071e-01,  1.2559e+00,\n",
      "           9.0435e-01, -1.0231e+00, -1.0634e+00,  6.7459e-01, -3.0913e-01,\n",
      "          -3.4151e-01],\n",
      "         [ 2.1328e+00,  2.2576e+00, -2.1742e-01,  1.9832e-03,  1.1679e+00,\n",
      "          -4.1870e-01,  2.1459e+00, -3.5806e-01, -1.3287e+00,  7.0922e-01,\n",
      "           6.7323e-03, -6.6078e-01, -1.4082e+00, -3.1962e-01, -4.1378e-01,\n",
      "           6.4183e-01],\n",
      "         [ 1.0883e+00, -8.9628e-01,  1.8090e-01, -2.9092e-01, -9.2774e-02,\n",
      "           8.4222e-01,  1.4676e+00,  8.2462e-01,  5.5258e-02,  5.8852e-01,\n",
      "           4.8754e-01,  5.4281e-01, -1.5701e+00,  4.1743e-01, -1.3736e-01,\n",
      "          -4.7288e-01],\n",
      "         [-6.8627e-01,  1.2388e+00,  7.1850e-01,  9.0853e-01, -4.8603e-01,\n",
      "           1.4778e+00,  5.8159e-01,  7.7396e-01, -5.2417e-01,  1.7789e-01,\n",
      "           2.8953e-01, -3.2325e+00, -3.7132e-01, -9.0907e-01,  6.5133e-01,\n",
      "           1.3595e-01],\n",
      "         [ 1.0883e+00, -8.9628e-01,  1.8090e-01, -2.9092e-01, -9.2774e-02,\n",
      "           8.4222e-01,  1.4676e+00,  8.2462e-01,  5.5258e-02,  5.8852e-01,\n",
      "           4.8754e-01,  5.4281e-01, -1.5701e+00,  4.1743e-01, -1.3736e-01,\n",
      "          -4.7288e-01],\n",
      "         [-3.2645e-02,  6.5698e-01, -5.8775e-01,  9.8142e-01, -5.0059e-01,\n",
      "           1.7753e-01,  1.8532e-01,  7.3783e-01, -1.3275e-01, -4.1816e-01,\n",
      "          -5.0707e-02, -8.2606e-01,  1.4803e+00, -1.1341e+00,  1.1607e+00,\n",
      "          -1.0832e+00],\n",
      "         [-3.8942e-01,  4.8912e-01,  1.5813e-01, -4.1341e-01,  6.4347e-01,\n",
      "           9.1419e-01,  4.0511e-01,  1.3441e-01,  8.2071e-01,  1.2559e+00,\n",
      "           9.0435e-01, -1.0231e+00, -1.0634e+00,  6.7459e-01, -3.0913e-01,\n",
      "          -3.4151e-01],\n",
      "         [-3.3955e-01, -1.2939e+00,  2.0744e-01, -1.4824e+00, -9.5837e-01,\n",
      "           1.7876e+00, -9.9660e-01,  3.2877e-01,  4.5121e-01, -5.1918e-01,\n",
      "           1.1200e+00, -6.5523e-01,  1.4269e+00,  2.4872e-01,  3.7342e-01,\n",
      "          -1.7556e-01],\n",
      "         [ 2.7743e-01, -2.6495e-02,  8.2376e-01, -5.1540e-01, -8.8034e-01,\n",
      "          -1.2445e+00, -7.2853e-02, -2.6503e-01,  6.0814e-01, -8.6446e-01,\n",
      "           1.7568e+00,  3.3603e-01,  1.0176e+00, -2.0681e+00, -2.1976e-01,\n",
      "          -9.7940e-01],\n",
      "         [-3.3955e-01, -1.2939e+00,  2.0744e-01, -1.4824e+00, -9.5837e-01,\n",
      "           1.7876e+00, -9.9660e-01,  3.2877e-01,  4.5121e-01, -5.1918e-01,\n",
      "           1.1200e+00, -6.5523e-01,  1.4269e+00,  2.4872e-01,  3.7342e-01,\n",
      "          -1.7556e-01],\n",
      "         [-1.0575e-01, -2.2487e-01, -4.3981e-01,  4.1216e-01,  7.2637e-03,\n",
      "           1.1457e+00,  5.0411e-01,  2.1821e+00,  1.0115e+00, -1.7288e+00,\n",
      "           6.4055e-01, -1.4014e+00, -6.3577e-02,  1.2921e+00, -2.6643e-01,\n",
      "          -2.4436e-02]]], grad_fn=<EmbeddingBackward0>)\n"
     ]
    }
   ],
   "source": [
    "Mostrar_Embedding(Corpus[0])"
   ]
  },
  {
   "cell_type": "code",
   "execution_count": null,
   "id": "a0de3e45",
   "metadata": {},
   "outputs": [],
   "source": []
  }
 ],
 "metadata": {
  "kernelspec": {
   "display_name": "MolGen",
   "language": "python",
   "name": "python3"
  },
  "language_info": {
   "codemirror_mode": {
    "name": "ipython",
    "version": 3
   },
   "file_extension": ".py",
   "mimetype": "text/x-python",
   "name": "python",
   "nbconvert_exporter": "python",
   "pygments_lexer": "ipython3",
   "version": "3.12.4"
  }
 },
 "nbformat": 4,
 "nbformat_minor": 5
}
