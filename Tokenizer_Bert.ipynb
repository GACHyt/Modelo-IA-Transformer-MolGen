{
 "cells": [
  {
   "cell_type": "code",
   "execution_count": null,
   "id": "eda0b74b",
   "metadata": {},
   "outputs": [
    {
     "data": {
      "text/plain": [
       "'\\npip install transformers\\npip install datasets\\npip install torch\\npip install tokenizers\\n'"
      ]
     },
     "execution_count": 12,
     "metadata": {},
     "output_type": "execute_result"
    }
   ],
   "source": [
    "\"\"\"\n",
    "%pip install transformers\n",
    "%pip install datasets\n",
    "%pip install torch\n",
    "%pip install tokenizers\n",
    "\"\"\""
   ]
  },
  {
   "cell_type": "markdown",
   "id": "b6310535",
   "metadata": {},
   "source": [
    "Importamos la lista de moléculas de GitHub y mostramos su tamaño y 5 ejemplos"
   ]
  },
  {
   "cell_type": "code",
   "execution_count": 13,
   "id": "2baa040e",
   "metadata": {},
   "outputs": [
    {
     "name": "stdout",
     "output_type": "stream",
     "text": [
      "Se cargaron 249456 moléculas.\n",
      "Primeras 5 moléculas: ['CC(C)(C)c1ccc2occ(CC(=O)Nc3ccccc3F)c2c1', 'C[C@@H]1CC(Nc2cncc(-c3nncn3C)c2)C[C@@H](C)C1', 'N#Cc1ccc(-c2ccc(O[C@@H](C(=O)N3CCCC3)c3ccccc3)cc2)cc1', 'CCOC(=O)[C@@H]1CCCN(C(=O)c2nc(-c3ccc(C)cc3)n3c2CCCCC3)C1', 'N#CC1=C(SCC(=O)Nc2cccc(Cl)c2)N=C([O-])[C@H](C#N)C12CCCCC2']\n"
     ]
    }
   ],
   "source": [
    "import urllib.request\n",
    "\n",
    "url = \"https://raw.githubusercontent.com/aspuru-guzik-group/selfies/refs/heads/master/examples/vae_example/datasets/dataJ_250k_rndm_zinc_drugs_clean.txt\"\n",
    "\n",
    "with urllib.request.urlopen(url) as response:\n",
    "    data = response.read().decode('utf-8')\n",
    "    Corpus = data.strip().split('\\n')\n",
    "\n",
    "print(f\"Se cargaron {len(Corpus)} moléculas.\")\n",
    "print(\"Primeras 5 moléculas:\", Corpus[:5])"
   ]
  },
  {
   "cell_type": "code",
   "execution_count": 14,
   "id": "4e9133dd",
   "metadata": {},
   "outputs": [
    {
     "data": {
      "text/plain": [
       "['CC(C)(C)c1ccc2occ(CC(=O)Nc3ccccc3F)c2c1',\n",
       " 'C[C@@H]1CC(Nc2cncc(-c3nncn3C)c2)C[C@@H](C)C1',\n",
       " 'N#Cc1ccc(-c2ccc(O[C@@H](C(=O)N3CCCC3)c3ccccc3)cc2)cc1',\n",
       " 'CCOC(=O)[C@@H]1CCCN(C(=O)c2nc(-c3ccc(C)cc3)n3c2CCCCC3)C1',\n",
       " 'N#CC1=C(SCC(=O)Nc2cccc(Cl)c2)N=C([O-])[C@H](C#N)C12CCCCC2']"
      ]
     },
     "execution_count": 14,
     "metadata": {},
     "output_type": "execute_result"
    }
   ],
   "source": [
    "Corpus[:5]"
   ]
  },
  {
   "cell_type": "code",
   "execution_count": 15,
   "id": "438fbd21",
   "metadata": {},
   "outputs": [],
   "source": [
    "#Muestra = [EOS + \"CC(=O)O\" + BOS, \"C1=CC=CC=C1\", \"C(C(=O)O)N\"]"
   ]
  },
  {
   "cell_type": "markdown",
   "id": "aebfce9b",
   "metadata": {},
   "source": [
    "Agregamos el Begin y End of Sequence a cada molécula del Corpus"
   ]
  },
  {
   "cell_type": "code",
   "execution_count": 16,
   "id": "03bed674",
   "metadata": {},
   "outputs": [],
   "source": [
    "EOS = \"[EOS]\"\n",
    "BOS = \"[BOS]\"\n",
    "num = 0\n",
    "for i in Corpus:\n",
    "    Corpus[num] = BOS + i + EOS\n",
    "    num += 1"
   ]
  },
  {
   "cell_type": "code",
   "execution_count": 17,
   "id": "9ea2d222",
   "metadata": {},
   "outputs": [
    {
     "data": {
      "text/plain": [
       "['[BOS]CC(C)(C)c1ccc2occ(CC(=O)Nc3ccccc3F)c2c1[EOS]',\n",
       " '[BOS]C[C@@H]1CC(Nc2cncc(-c3nncn3C)c2)C[C@@H](C)C1[EOS]',\n",
       " '[BOS]N#Cc1ccc(-c2ccc(O[C@@H](C(=O)N3CCCC3)c3ccccc3)cc2)cc1[EOS]',\n",
       " '[BOS]CCOC(=O)[C@@H]1CCCN(C(=O)c2nc(-c3ccc(C)cc3)n3c2CCCCC3)C1[EOS]',\n",
       " '[BOS]N#CC1=C(SCC(=O)Nc2cccc(Cl)c2)N=C([O-])[C@H](C#N)C12CCCCC2[EOS]']"
      ]
     },
     "execution_count": 17,
     "metadata": {},
     "output_type": "execute_result"
    }
   ],
   "source": [
    "Corpus[:5]"
   ]
  },
  {
   "cell_type": "code",
   "execution_count": 18,
   "id": "4341294c",
   "metadata": {},
   "outputs": [],
   "source": [
    "from tokenizers import Tokenizer, models, trainers, pre_tokenizers"
   ]
  },
  {
   "cell_type": "markdown",
   "id": "56204f1f",
   "metadata": {},
   "source": [
    "Obtenemos el vocabulario con Bert pre entrenado de HuggingFace y lo guardamos en \"smiles_tokenizer.json\""
   ]
  },
  {
   "cell_type": "code",
   "execution_count": 19,
   "id": "c07fef71",
   "metadata": {},
   "outputs": [],
   "source": [
    "tokenizer = Tokenizer(models.BPE()) #Llamar al tokenizer BPE\n",
    "\n",
    "tokenizer.pre_tokenizer = pre_tokenizers.ByteLevel(add_prefix_space=False) #Usamos el protocolo UTF-8 de ByteLevel y sacamos los espacios\n",
    "\n",
    "trainer = trainers.BpeTrainer(vocab_size=100, special_tokens=[\"[PAD]\", \"[UNK]\", \"[CLS]\", \"[SEP]\", \"[MASK]\", \"[EOS]\", \"[BOS]\"]) #Agregamos el tokenizer con BpeTrainer y agregamos los tokens especiales\n",
    "\n",
    "tokenizer.train_from_iterator(Corpus, trainer=trainer) #Entrenamos el tokenizer con el Corpus\n",
    "\n",
    "tokenizer.save(\"smiles_tokenizer.json\")"
   ]
  },
  {
   "cell_type": "markdown",
   "id": "4e677257",
   "metadata": {},
   "source": [
    "Aplicamos el tokenizer en una una molecula con la funcion Tokenizar() y muestra la molécula en Smiles, dividida en tokens y con los ids de las tokens"
   ]
  },
  {
   "cell_type": "code",
   "execution_count": 20,
   "id": "14bd6a0c",
   "metadata": {},
   "outputs": [
    {
     "name": "stdout",
     "output_type": "stream",
     "text": [
      "SMILES: [BOS]CC(C)(C)c1ccc2occ(CC(=O)Nc3ccccc3F)c2c1[EOS]\n",
      "Tokens: ['[BOS]', 'CC', '(', 'C', ')(', 'C', ')', 'c', '1', 'ccc', '2', 'o', 'cc', '(', 'CC', '(=', 'O', ')', 'Nc', '3', 'ccccc', '3', 'F', ')', 'c', '2', 'c', '1', '[EOS]']\n",
      "IDs: [6, 43, 8, 24, 65, 24, 9, 36, 13, 46, 14, 39, 42, 8, 43, 45, 30, 9, 61, 15, 53, 15, 26, 9, 36, 14, 36, 13, 5]\n"
     ]
    }
   ],
   "source": [
    "# Tokenizamos una molécula (ejemplo)\n",
    "def Tokenizar(mol):\n",
    "    output = tokenizer.encode(mol)\n",
    "\n",
    "    print(\"SMILES:\", mol)\n",
    "    print(\"Tokens:\", output.tokens)\n",
    "    print(\"IDs:\", output.ids)\n",
    "\n",
    "Tokenizar(Corpus[0])"
   ]
  }
 ],
 "metadata": {
  "kernelspec": {
   "display_name": "Python 3",
   "language": "python",
   "name": "python3"
  },
  "language_info": {
   "codemirror_mode": {
    "name": "ipython",
    "version": 3
   },
   "file_extension": ".py",
   "mimetype": "text/x-python",
   "name": "python",
   "nbconvert_exporter": "python",
   "pygments_lexer": "ipython3",
   "version": "3.12.4"
  }
 },
 "nbformat": 4,
 "nbformat_minor": 5
}
